{
 "cells": [
  {
   "cell_type": "markdown",
   "metadata": {},
   "source": [
    "# Artificial Intelligence - Chapters 5 and 6\n",
    "\n",
    "**Note:** The presentation was made using instruction material with no edits"
   ]
  },
  {
   "cell_type": "markdown",
   "metadata": {},
   "source": [
    "## Agenda\n",
    "\n",
    "- Quiz\n",
    "- Review\n",
    "- Adversarial Search\n",
    "- Constraint Satisfaction Problems\n",
    "- Survey"
   ]
  },
  {
   "cell_type": "markdown",
   "metadata": {},
   "source": [
    "## Quiz\n",
    "\n",
    "Please, open WT Class and find the Week 3 quiz. Read the information thoroughly. Questions are getting harder each time, get used to it and have a lot of fun."
   ]
  },
  {
   "cell_type": "markdown",
   "metadata": {},
   "source": [
    "## Discussing the Quiz\n",
    "\n",
    "- What went wrong?\n",
    "- What went right? \n",
    "- How to improve?"
   ]
  },
  {
   "cell_type": "markdown",
   "metadata": {},
   "source": [
    "## This week's participation grade\n",
    "\n",
    "There are 14 algorithms that I wanted to discuss today (well, maybe more)\n",
    "\n",
    "Each one of you will be assigned one algorithm that you will implement in Python\n",
    "\n",
    "To get a full credit, you need to provide the following:\n",
    "1. Explanation of the algorithm - 20 points\n",
    "2. Explanation of the example that will serve to show how the algorithm works - 20 points\n",
    "3. Code that runs on the example - 20 points\n",
    "4. Documentation of the code - 20 points\n",
    "5. Blog of your experience - 20 points\n",
    "\n",
    "If we don't get to discuss your algorithm in the class reach out to me by WTClass Course Message or come to office hours \n",
    "\n"
   ]
  },
  {
   "cell_type": "markdown",
   "metadata": {},
   "source": [
    "### Please open [chapter05.pdf](chapter05.pdf)\n",
    "### Please open [chapter06.pdf](chapter06.pdf)"
   ]
  },
  {
   "cell_type": "markdown",
   "metadata": {},
   "source": [
    "## Summary\n",
    "\n",
    "- Games are fun to work on! (and dangerous)\n",
    "- They illustrate several important points about AI\n",
    "    - perfection is unattainable ⇒ must approximate\n",
    "    - good idea to think about what to think about\n",
    "    - uncertainty constrains the assignment of values to states\n",
    "    - optimal decisions depend on information state, not real state\n",
    "- Games are to AI as grand prix racing is to automobile design\n",
    "\n",
    "- CSPs are a special kind of problem: \n",
    "    - states deﬁned by values of a ﬁxed set of variables \n",
    "    - goal test deﬁned by constraints on variable values\n",
    "- Backtracking = depth-first search with one variable assigned per node\n",
    "- Variable ordering and value selection heuristics help significantly\n",
    "- Forward checking prevents assignments that guarantee later failure\n",
    "- Constraint propagation (e.g., arc consistency) does additional work to constrain values and detect inconsistencies\n",
    "- The CSP representation allows analysis of problem structure\n",
    "- Tree-structured CSPs can be solved in linear time\n",
    "- Iterative min-conﬂicts is usually effective in practice\n",
    "\n",
    "\n",
    "- For the next time, please, read Chapters 12, 7 and 9"
   ]
  },
  {
   "cell_type": "markdown",
   "metadata": {},
   "source": [
    "## Survey\n",
    "\n",
    "Please, open the WTClass and provide feedback upon how did you like this class. This is optional but highly appreciated"
   ]
  }
 ],
 "metadata": {
  "kernelspec": {
   "display_name": "Python 3",
   "language": "python",
   "name": "python3"
  },
  "language_info": {
   "codemirror_mode": {
    "name": "ipython",
    "version": 3
   },
   "file_extension": ".py",
   "mimetype": "text/x-python",
   "name": "python",
   "nbconvert_exporter": "python",
   "pygments_lexer": "ipython3",
   "version": "3.7.3"
  }
 },
 "nbformat": 4,
 "nbformat_minor": 2
}
