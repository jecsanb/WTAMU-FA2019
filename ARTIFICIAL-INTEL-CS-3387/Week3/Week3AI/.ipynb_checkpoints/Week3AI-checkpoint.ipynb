{
 "cells": [
  {
   "cell_type": "markdown",
   "metadata": {},
   "source": [
    "# Artificial Intelligence - Chapters 3 and 4\n",
    "\n",
    "**Note:** The presentation was made using instruction material with little to no edits"
   ]
  },
  {
   "cell_type": "markdown",
   "metadata": {},
   "source": [
    "## Agenda\n",
    "\n",
    "- Quiz\n",
    "- Problem-solving agents\n",
    "- Problem types\n",
    "- Problem formulation\n",
    "- Example problems\n",
    "- Basic search algorithms\n",
    "- Best-first search\n",
    "- A* search\n",
    "- Heuristics\n",
    "- Hill-climbing\n",
    "- Simulated annealing (briefly)\n",
    "- Genetic algorithms (briefly)\n",
    "- Local search in continuous spaces (very briefly)\n",
    "- Survey"
   ]
  },
  {
   "cell_type": "markdown",
   "metadata": {},
   "source": [
    "## Quiz\n",
    "\n",
    "Please, open WT Class and find the Week 2 quiz. Read the information thoroughly. Questions are getting harder each time, get used to it and have a lot of fun."
   ]
  },
  {
   "cell_type": "markdown",
   "metadata": {},
   "source": [
    "## Discussing the Quiz\n",
    "\n",
    "- What went wrong?\n",
    "- What went right? \n",
    "- How to improve?\n",
    "    - I hope you all agreed to participate in masterframe competition next week"
   ]
  },
  {
   "cell_type": "markdown",
   "metadata": {},
   "source": [
    "## This week's participation grade\n",
    "\n",
    "There are 14 algorithms that I wanted to discuss today (well, 17, but last 4 will be brief discussion and only one of those last 4 we will touch more to provide you the opportunity to make the algorithm)\n",
    "\n",
    "Please, choose one algorithm that you will implement in Python - if you don't choose one algorithm will be assigned to you randomly\n",
    "\n",
    "To get a full credit, you need to provide the following:\n",
    "1. Explanation of the algorithm - 20 points\n",
    "2. Explanation of the example that will serve to show how the algorithm works - 20 points\n",
    "3. Code that runs on the example - 20 points\n",
    "4. Documentation of the code - 20 points\n",
    "5. Blog of your experience - 20 points\n",
    "\n",
    "There will be 20 questions on next week's quiz - 14 questions about algorithms and 6 questions that are based on today's discussion\n",
    "\n",
    "Please, start early such that your colleagues could see your experience and prepare for the quiz!\n",
    "\n",
    "If we don't get to discuss your algorithm in the class reach out to me by WTClass Course Message or come to office hours \n",
    "\n"
   ]
  },
  {
   "cell_type": "markdown",
   "metadata": {},
   "source": [
    "## Problem-solving agents\n",
    "\n",
    "Restricted form of general agent\n",
    "\n"
   ]
  },
  {
   "cell_type": "code",
   "execution_count": null,
   "metadata": {},
   "outputs": [],
   "source": [
    "function Simple-Problem-Solving-Agent( percept) returns an action\n",
    "    static: seq, an action sequence, initially empty\n",
    "            state, some description of the current world state\n",
    "            goal, a goal, initially null\n",
    "            problem, a problem formulation\n",
    "    state <-- Update-State(state, percept)\n",
    "    if seq is empty then\n",
    "        goal <-- Formulate-Goal(state)\n",
    "        problem <-- Formulate-Problem(state, goal)\n",
    "        seq <-- Search( problem)\n",
    "    action <-- Recommendation(seq, state)\n",
    "    seq <-- Remainder(seq, state)\n",
    "    return action"
   ]
  },
  {
   "cell_type": "markdown",
   "metadata": {},
   "source": [
    "Note: this is offine problem solving; solution executed \"eyes closed.\"\n",
    "\n",
    "Online problem solving involves acting without complete knowledge."
   ]
  },
  {
   "cell_type": "markdown",
   "metadata": {},
   "source": [
    "### Example: Romania\n",
    "\n",
    "On holiday in Romania; currently in Arad.\n",
    "\n",
    "Flight leaves tomorrow from Bucharest\n",
    "\n",
    "Formulate goal:\n",
    "   - be in Bucharest\n",
    "\n",
    "Formulate problem:\n",
    "   - states: various cities\n",
    "   - actions: drive between cities\n",
    "\n",
    "Find solution:\n",
    "   - sequence of cities, e.g., Arad, Sibiu, Fagaras, Bucharest\n",
    "\n",
    "![Romania.png](Romania.png) "
   ]
  },
  {
   "cell_type": "markdown",
   "metadata": {},
   "source": [
    "## Problem types\n",
    "\n",
    "Deterministic, fully observable --> single-state problem\n",
    "- Agent knows exactly which state it will be in; solution is a sequence\n",
    "\n",
    "Non-observable --> conformant problem\n",
    "- Agent may have no idea where it is; solution (if any) is a sequence\n",
    "\n",
    "Nondeterministic and/or partially observable --> contingency problem\n",
    "   - percepts provide new information about current state\n",
    "   - solution is a contingent plan or a policy\n",
    "   - often interleave search, execution\n",
    "\n",
    "Unknown state space --> exploration problem (\"online\")\n"
   ]
  },
  {
   "cell_type": "markdown",
   "metadata": {},
   "source": [
    "### Please open chapter03.pdf\n",
    "### Please open chapter04a.pdf\n",
    "### Please open chapter04b.pdf"
   ]
  },
  {
   "cell_type": "markdown",
   "metadata": {},
   "source": [
    "## Summary\n",
    "\n",
    "- Problem formulation usually requires abstracting away real-world details to define a state space that can feasibly be explored\n",
    "- Variety of uninformed search strategies\n",
    "- Iterative deepening search uses only linear space and not much more time than other uninformed algorithms\n",
    "- Graph search can be exponentially more eficient than tree search\n",
    "- Heuristic functions estimate costs of shortest paths\n",
    "- Good heuristics can dramatically reduce search cost\n",
    "- Greedy best-first search expands lowest h\n",
    "    - incomplete and not always optimal\n",
    "- A* search expands lowest g + h\n",
    "    - complete and optimal\n",
    "    - also optimally eficient (up to tie-breaks, for forward search)\n",
    "- Admissible heuristics can be derived from exact solution of relaxed problems\n",
    "- We spoke briefly about hill climbing, simulated anealing, genetic algorithms and local search in continuous spaces\n",
    "- For the next time, please, read Chapters 5 and 6"
   ]
  },
  {
   "cell_type": "markdown",
   "metadata": {},
   "source": [
    "## Survey\n",
    "\n",
    "Please, open the WTClass and provide feedback upon how did you like this class. This is optional but highly appreciated"
   ]
  }
 ],
 "metadata": {
  "kernelspec": {
   "display_name": "Python 3",
   "language": "python",
   "name": "python3"
  },
  "language_info": {
   "codemirror_mode": {
    "name": "ipython",
    "version": 3
   },
   "file_extension": ".py",
   "mimetype": "text/x-python",
   "name": "python",
   "nbconvert_exporter": "python",
   "pygments_lexer": "ipython3",
   "version": "3.7.3"
  }
 },
 "nbformat": 4,
 "nbformat_minor": 2
}
