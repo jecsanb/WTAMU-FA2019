{
 "cells": [
  {
   "cell_type": "markdown",
   "metadata": {},
   "source": [
    "# Logic - Chapters 8 and 9\n",
    "\n",
    "**Note:** The presentation was made using instruction material with little to no edits"
   ]
  },
  {
   "cell_type": "markdown",
   "metadata": {},
   "source": [
    "## Agenda\n",
    "\n",
    "- Quiz\n",
    "- Discussing the Quiz\n",
    "- Today's participation grade\n",
    "- First order logic and - Survey"
   ]
  },
  {
   "cell_type": "markdown",
   "metadata": {},
   "source": [
    "## Discussing the Quiz\n",
    "\n",
    "- What went wrong?\n",
    "- What went right? \n",
    "- How to improve?"
   ]
  },
  {
   "cell_type": "markdown",
   "metadata": {},
   "source": [
    "## This week's participation grade\n",
    "\n",
    "For this week's participation you will need to continue working on your ontology. If you have already explained what your ontology can do it is time to show it. Implement it as Atef did and infer some knowledge. Let's see what you can/can't infer.\n",
    "\n",
    "Please, finish your task early such that we could comment and improve your learning experience. Please, note: If you **understand** all the concepts covered today, that is **all you need for the quiz**!\n",
    "\n",
    "If you don't understand something, please, reach out to me by WTClass Course Message or come to my office during office hours, Monday 10am - 12 noon (remember)"
   ]
  },
  {
   "cell_type": "markdown",
   "metadata": {},
   "source": [
    "### Please open [chapter07.pdf](chapter07.pdf)\n",
    "### Please open [chapter08.pdf](chapter08.pdf)\n",
    "### Please open [chapter09.pdf](chapter09.pdf)"
   ]
  },
  {
   "cell_type": "markdown",
   "metadata": {},
   "source": [
    "## Summary\n",
    "\n",
    "- We continued discussing logic\n",
    "- You got to extend ontologies you made and infer some interesting knowledge from them\n",
    "- Next week we will tackle planning - chapter 10 and 11.\n"
   ]
  },
  {
   "cell_type": "markdown",
   "metadata": {},
   "source": [
    "## Survey\n",
    "\n",
    "Please, open the WTClass and provide feedback upon how did you like this class. This is optional but highly appreciated."
   ]
  }
 ],
 "metadata": {
  "kernelspec": {
   "display_name": "Python 3",
   "language": "python",
   "name": "python3"
  },
  "language_info": {
   "codemirror_mode": {
    "name": "ipython",
    "version": 3
   },
   "file_extension": ".py",
   "mimetype": "text/x-python",
   "name": "python",
   "nbconvert_exporter": "python",
   "pygments_lexer": "ipython3",
   "version": "3.7.3"
  }
 },
 "nbformat": 4,
 "nbformat_minor": 2
}
