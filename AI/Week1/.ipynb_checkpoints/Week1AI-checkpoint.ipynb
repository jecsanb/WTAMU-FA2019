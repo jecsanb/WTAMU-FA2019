{
 "cells": [
  {
   "cell_type": "markdown",
   "metadata": {},
   "source": [
    "# Artificial Intelligence - Chapters 1 and 2\n",
    "\n",
    "**Note:** The presentation was made using instruction material with little to no edits"
   ]
  },
  {
   "cell_type": "markdown",
   "metadata": {},
   "source": [
    "## Agenda\n",
    "\n",
    "- Discussing Syllabus\n",
    "- Quiz\n",
    "- What is AI\n",
    "- A bried history\n",
    "- The state of the art\n",
    "- Agents and envirionments\n",
    "- Rationality\n",
    "- PEAS (Performance measure, Environment, Actuators, Sensors)\n",
    "- Environment types\n",
    "- Agent types\n",
    "- Survey"
   ]
  },
  {
   "cell_type": "markdown",
   "metadata": {},
   "source": [
    "## Discussing Syllabus\n",
    "\n",
    "- Remind me to put my phone number\n",
    "- Office Hours\n",
    "- Required material\n",
    "- Optional material\n",
    "- VM (Instructions are uploaded but a bit outdated - **you need the most recent version of VM**)\n",
    "- Flash drive\n",
    "- Expectations\n",
    "- What I would like to achieve\n",
    "- Grading\n",
    "- Extra credits \n",
    "    - e.g. Career Expo\n",
    "- Policies and Responsibilities\n",
    "- Academic Integrity\n",
    "\n",
    "Devpost:\n",
    "- Plan\n",
    "- Learn\n",
    "- Collaborate\n",
    "- Share"
   ]
  },
  {
   "cell_type": "markdown",
   "metadata": {},
   "source": [
    "## Quiz\n",
    "\n",
    "Please, open WT Class and find the Week 1 quiz. Read the information thoroughly. I would like to learn more about you and if you enter what I wrote you should enter you will get the full credit no matter what other information you entered."
   ]
  },
  {
   "cell_type": "markdown",
   "metadata": {},
   "source": [
    "## What is AI?\n",
    "\n",
    "- Systems that think like humans\n",
    "- Systems that think rationally\n",
    "- Systems that act like humans\n",
    "- Systems that act rationally\n",
    "* In the books - A.I"
   ]
  },
  {
   "cell_type": "markdown",
   "metadata": {},
   "source": [
    "## Acting humanly: The Turing Test\n",
    "\n",
    "Turing (1950) \"Computing machinery and intelligence\":\n",
    "\n",
    "- \"Can machines think?\" -- \"Can machines behave intelligently?\"\n",
    "- Operational test for intelligent behavior: the Imitation Game\n",
    "- Predicted that by 2000, a machine might have a 30% chance of fooling a lay person for 5 minutes\n",
    "- Anticipated all major arguments against AI in following 50 years \n",
    "- Suggested major components of AI: knowledge, reasoning, language understanding, learning \n",
    "\n",
    "Problem: Turing test is not reproducible, constructive, or amenable to mathematical analysis\n"
   ]
  },
  {
   "cell_type": "markdown",
   "metadata": {},
   "source": [
    "## Thinking humanly: Cognitive Science\n",
    "\n",
    "1960s \"cognitive revolution\": information-processing psychology replaced prevailing orthodoxy of behaviorism\n",
    "\n",
    "Requires scientiﬁc theories of internal activities of the brain\n",
    "- What level of abstraction? \"Knowledge\" or \"circuits\"? \n",
    "- How to validate? Requires \n",
    "\n",
    "    1. Predicting and testing behavior of human subjects (top-down) or \n",
    "    2. Direct identiﬁcation from neurological data (bottom-up)\n",
    "\n",
    "Both approaches (roughly, Cognitive Science and Cognitive Neuroscience) are now distinct from AI\n",
    "\n",
    "Both share with AI the following characteristic: \n",
    "\n",
    "    - the available theories do not explain (or engender) anything resembling human-level general intelligence\n",
    "\n",
    "Hence, all three ﬁelds share one principal direction!\n",
    "\n"
   ]
  },
  {
   "cell_type": "markdown",
   "metadata": {},
   "source": [
    "## Thinking rationally: Laws of Thought\n",
    "\n",
    "Normative (or prescriptive) rather than descriptive\n",
    "\n",
    "Aristotle: what are correct arguments/thought processes?\n",
    "\n",
    "Several Greek schools developed various forms of logic: \n",
    "- notation and rules of derivation for thoughts; \n",
    "may or may not have proceeded to the idea of mechanization\n",
    "\n",
    "Direct line through mathematics and philosophy to modern AI\n",
    "\n",
    "Problems: \n",
    "1) Not all intelligent behavior is mediated by logical deliberation \n",
    "2) What is the purpose of thinking? What thoughts should I have out of all the thoughts (logical or otherwise) that I could have?\n"
   ]
  },
  {
   "cell_type": "markdown",
   "metadata": {},
   "source": [
    "## Acting rationally\n",
    "\n",
    "Rational behavior: doing the right thing\n",
    "\n",
    "The right thing: that which is expected to maximize goal achievement, given the available information\n",
    "\n",
    "Doesn't necessarily involve thinking - e.g., blinking reﬂex - but thinking should be in the service of rational action\n",
    "\n",
    "Aristotle (Nicomachean Ethics): \n",
    "- Every art and every inquiry, and similarly every action and pursuit, is thought to aim at some good\n"
   ]
  },
  {
   "cell_type": "markdown",
   "metadata": {},
   "source": [
    "## Rational agents\n",
    "\n",
    "An agent is an entity that perceives and acts\n",
    "\n",
    "This course is about designing rational agents\n",
    "\n",
    "Abstractly, an agent is a function from percept histories to actions: f : P∗ → A\n",
    "\n",
    "For any given class of environments and tasks, we seek the agent (or class of agents) with the best performance\n",
    "\n",
    "Caveat: computational limitations make perfect rationality unachievable \n",
    "\n",
    "design best program for given machine resources\n"
   ]
  },
  {
   "cell_type": "markdown",
   "metadata": {},
   "source": [
    "## AI prehistory\n",
    "|||\n",
    "|:--|--:|\n",
    "|Philosophy | logic, methods of reasoning mind as physical system foundations of learning, language, rationality |\n",
    "|Mathematics | formal representation and proof algorithms, computation, (un)decidability, (in)tractability probability |\n",
    "|Psychology | adaptation phenomena of perception and motor control experimental techniques (psychophysics, etc.) |\n",
    "|Economics | formal theory of rational decisions |\n",
    "|Linguistics | knowledge representation grammar |\n",
    "|Neuroscience | plastic physical substrate for mental activity |\n",
    "|Control theory | homeostatic systems, stability simple optimal agent designs |\n",
    "\n",
    "           \n"
   ]
  },
  {
   "cell_type": "markdown",
   "metadata": {},
   "source": [
    "## Potted history of AI \n",
    "|||\n",
    "|:--|:--|\n",
    "|1943  | McCulloch & Pitts: Boolean circuit model of brain |\n",
    "|1950  | Turing's \"Computing Machinery and Intelligence\" |\n",
    "|1952–69  | Look, Ma, no hands! |\n",
    "|1950s | Early AI programs, including Samuel’s checkers program, Newell & Simon’s Logic Theorist, Gelernter’s Geometry Engine |\n",
    "|1956  | Dartmouth meeting: “Artiﬁcial Intelligence” adopted |\n",
    "|1965  | Robinson’s complete algorithm for logical reasoning |\n",
    "|1966-74 | AI discovers computational complexity; Neural network research almost disappears  |\n",
    "|1969-79 | Early development of knowledge-based systems |\n",
    "|1980-88 | Expert systems industry booms |\n",
    "|1988-93 | Expert systems industry busts: \"AI Winter\" |\n",
    "|1985-95 | Neural networks return to popularity |\n",
    "|1988- | Resurgence of probability; general increase in technical depth \"Nouvelle AI\": ALife, GAs, soft computing  |\n",
    "|1995- | Agents, agents, everywhere ... |\n",
    "|2003- | Human-level AI back on the agenda |\n",
    "\n",
    "           \n"
   ]
  },
  {
   "cell_type": "markdown",
   "metadata": {},
   "source": [
    "## State of the art\n",
    "\n",
    "Which of the following can be done at present?\n",
    "\n",
    "- Play a decent game of table tennis \n",
    "- Drive safely along a curving mountain road \n",
    "- Drive safely in Turkey \n",
    "- Buy a week's worth of groceries on the web \n",
    "- Buy a week's worth of groceries at United \n",
    "- Play a decent game of bridge \n",
    "- Discover and prove a new mathematical theorem \n",
    "- Design and execute a research program in molecular biology \n",
    "- Write an intentionally funny story \n",
    "- Give competent legal advice in a specialized area of law \n",
    "- Translate spoken English into spoken Swedish in real time \n",
    "- Converse successfully with another person for an hour \n",
    "- Perform a complex surgical operation \n",
    "- Unload any dishwasher and put everything away\n"
   ]
  },
  {
   "cell_type": "markdown",
   "metadata": {},
   "source": [
    "## Agents and environments\n",
    "\n",
    "Agents include humans, robots, softbots, but also...\n",
    "\n",
    "The agent function maps from percept histories to actions: f : P∗ --> A\n",
    "\n",
    "The agent program runs on the physical architecture to produce f\n",
    "\n",
    "|||\n",
    "|:--|:--|\n",
    "|A  | B |\n",
    "|ROBOT  |  |\n",
    "|Dirt  | Dirt |\n",
    "\n",
    "Percepts: location and contents, e.g., [A,Dirty]\n",
    "Actions: Left, Right, Suck, NoOp\n"
   ]
  },
  {
   "cell_type": "markdown",
   "metadata": {},
   "source": [
    "## A vacuum-cleaner agent\n",
    "|Percept Sequence| Action|\n",
    "|:--|--:|\n",
    "|[A,Clean] | Right |\n",
    "|[A,Dirty] | Suck |\n",
    "|[B,Clean] | Left |\n",
    "|[B,Dirty] | Suck |\n",
    "|[A,Clean], [A,Clean] | Right |\n",
    "|[A,Clean], [A,Dirty] | Suck |\n",
    "|. . . | . . . |\n"
   ]
  },
  {
   "cell_type": "code",
   "execution_count": null,
   "metadata": {},
   "outputs": [],
   "source": [
    "function Reflex-Vacuum-Agent([location,status]) returns an action: \n",
    "    if status = Dirty then return Suck \n",
    "    else if location = A then return Right \n",
    "    else if location = B then return Left\n"
   ]
  },
  {
   "cell_type": "markdown",
   "metadata": {},
   "source": [
    "What is the right function? \n",
    "\n",
    "Can it be implemented in a small agent program?\n"
   ]
  },
  {
   "cell_type": "markdown",
   "metadata": {},
   "source": [
    "## Rationality\n",
    "\n",
    "Fixed performance measure evaluates the environment sequence\n",
    "- one point per square cleaned up in time T? \n",
    "- one point per clean square per time step, minus one per move? \n",
    "- penalize for > k dirty squares?\n",
    "\n",
    "A rational agent chooses whichever action maximizes the expected value of the performance measure given the percept sequence to date\n",
    "\n",
    "Rational not equal to omniscient \n",
    "   - percepts may not supply all relevant information \n",
    "\n",
    "Rational not equal to clairvoyant \n",
    "   - action outcomes may not be as expected \n",
    "\n",
    "Hence, rational not equal to successful\n",
    "\n",
    "Rational means exploration, learning, autonomy\n"
   ]
  },
  {
   "cell_type": "markdown",
   "metadata": {},
   "source": [
    "## PEAS\n",
    "\n",
    "To design a rational agent, we must specify the task environment\n",
    "\n",
    "Consider, e.g., the task of designing an automated taxi:\n",
    "\n",
    "Performance measure?? safety, destination, proﬁts, legality, comfort, ...\n",
    "\n",
    "Environment?? US streets/freeways, traﬃc, pedestrians, weather, ...\n",
    "\n",
    "Actuators?? steering, accelerator, brake, horn, speaker/display, ...\n",
    "\n",
    "Sensors?? video, accelerometers, gauges, engine sensors, keyboard, GPS, ...\n"
   ]
  },
  {
   "cell_type": "markdown",
   "metadata": {},
   "source": [
    "## Internet Shopping Agent\n",
    "\n",
    "Performance measure?? price, quality, appropriateness, eﬃciency\n",
    "\n",
    "Environment?? current and future WWW sites, vendors, shippers\n",
    "\n",
    "Actuators?? display to user, follow URL, ﬁll in form\n",
    "\n",
    "Sensors?? HTML pages (text, graphics, scripts)\n"
   ]
  },
  {
   "cell_type": "markdown",
   "metadata": {},
   "source": [
    "## Environment Types\n",
    "\n",
    "|   |Solitaire   |Backgammon |  Internet Shopping | Taxi  |\n",
    "|:--|:-:|:-:|:-:|:-:|\n",
    "| Observable??  | Yes  | Yes  | No  | No  |\n",
    "| Deterministic??  | Yes  | No  | Partly  | No  |\n",
    "| Episodic??  | No  | No  | No  | No  |\n",
    "| Static??  | Yes  | Semi  | Semi  | No  |\n",
    "| Discrete??  | Yes  | Yes  | Yes  | No  |\n",
    "| Single-agent??  | Yes  | No  | Yes (except auctions)  | No  |\n",
    "\n",
    "The environment type largely determines the agent design\n",
    "\n",
    "The real world is (of course) partially observable, stochastic, sequential, dynamic, continuous, multi-agent\n"
   ]
  },
  {
   "cell_type": "markdown",
   "metadata": {},
   "source": [
    "## Agent types\n",
    "\n",
    "\n",
    "Four basic types in order of increasing generality: \n",
    "- simple reﬂex agents \n",
    "- reﬂex agents with state \n",
    "- goal-based agents \n",
    "- utility-based agents\n",
    "\n",
    "All these can be turned into learning agents\n"
   ]
  },
  {
   "cell_type": "markdown",
   "metadata": {},
   "source": [
    "![SRA.png](SRA.png) \n"
   ]
  },
  {
   "cell_type": "markdown",
   "metadata": {},
   "source": [
    "![SRAExample.png](SRAExample.png) "
   ]
  },
  {
   "cell_type": "markdown",
   "metadata": {},
   "source": [
    "![RAWS.png](RAWS.png) "
   ]
  },
  {
   "cell_type": "markdown",
   "metadata": {},
   "source": [
    "![RAWSExample.png](RAWSExample.png) "
   ]
  },
  {
   "cell_type": "markdown",
   "metadata": {},
   "source": [
    "![GBA.png](GBA.png) "
   ]
  },
  {
   "cell_type": "markdown",
   "metadata": {},
   "source": [
    "![UBA.png](UBA.png) "
   ]
  },
  {
   "cell_type": "markdown",
   "metadata": {},
   "source": [
    "![LA.png](LA.png) "
   ]
  },
  {
   "cell_type": "markdown",
   "metadata": {},
   "source": [
    "## Summary\n",
    "\n",
    "- We scratched the surface of what intelligence means\n",
    "- We discussed agents, agent functions, performance measures, environment types, agent types\n",
    "- For the next time, please, read Chapters 3 and 4"
   ]
  },
  {
   "cell_type": "markdown",
   "metadata": {},
   "source": [
    "## Survey\n",
    "\n",
    "Please, open the WTClass and provide feedback upon how did you like this class. This is optional but highly appreciated."
   ]
  }
 ],
 "metadata": {
  "kernelspec": {
   "display_name": "Python 3",
   "language": "python",
   "name": "python3"
  },
  "language_info": {
   "codemirror_mode": {
    "name": "ipython",
    "version": 3
   },
   "file_extension": ".py",
   "mimetype": "text/x-python",
   "name": "python",
   "nbconvert_exporter": "python",
   "pygments_lexer": "ipython3",
   "version": "3.7.3"
  }
 },
 "nbformat": 4,
 "nbformat_minor": 2
}
