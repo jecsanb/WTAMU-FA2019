{
 "cells": [
  {
   "cell_type": "markdown",
   "metadata": {},
   "source": [
    "# Conclusions"
   ]
  },
  {
   "cell_type": "markdown",
   "metadata": {},
   "source": [
    "## Agenda\n",
    "\n",
    "- What we have learned?\n",
    "- What is missing? \n",
    "- How to move forward?\n",
    "\n",
    "---"
   ]
  },
  {
   "cell_type": "markdown",
   "metadata": {},
   "source": [
    "## What we have learned?\n",
    "\n",
    "- ScikitLearn and Machine learning overview\n",
    "    > - Benefits/drawbacks of ScikitLearn\n",
    "    > - Machine Learning Jargon\n",
    "- Loading and preprocessing datasets\n",
    "    > - Data requirements in ScikitLearn and loading Datasets\n",
    "    > - Train-test split\n",
    "    > - Scaling\n",
    "    > - Label Encoding\n",
    "    > - Handling Missing Data\n",
    "- Several basic supervised learning methods and their evaluation\n",
    "    > - ScikitLearn 4-step modeling pattern\n",
    "    > - Train-test split\n",
    "    > - Cross validation\n",
    "    > - Classification accuracy\n",
    "    > - Classification confusion matrix, false positive rate, sensitivity/specification\n",
    "    > - Classification precision/recall\n",
    "    > - Classification ROC\n",
    "    > - Classification AUC\n",
    "    > - Regression RMSE"
   ]
  },
  {
   "cell_type": "markdown",
   "metadata": {},
   "source": [
    "![scikit-learn algorithm map](images/02_sklearn_algorithms.png)\n",
    "\n",
    "## What is missing? \n",
    "\n",
    "- Outlier Detection\n",
    "- Dimensionality reduction\n",
    "- Clustering\n",
    "- Feature Selection\n",
    "- Regularization methods\n",
    "\n"
   ]
  },
  {
   "cell_type": "markdown",
   "metadata": {},
   "source": [
    "## How to move forward?\n",
    "\n",
    "- To understand the underlying math [An Introduction to Statistical Learning](http://www.statlearning.com)\n",
    "- Next week [Tensorflow workshop](http://www.github.com/nuitrcs/Python-Tensorflow)\n",
    "- In a couple of months [BigData workshop](https://www.psc.edu/current-workshop)\n",
    "- Coursera, edx, udacity MOOCs\n",
    "- In short, you need to have a lot of fun working with data to appreciate its power!"
   ]
  }
 ],
 "metadata": {
  "kernelspec": {
   "display_name": "Python 3",
   "language": "python",
   "name": "python3"
  },
  "language_info": {
   "codemirror_mode": {
    "name": "ipython",
    "version": 3
   },
   "file_extension": ".py",
   "mimetype": "text/x-python",
   "name": "python",
   "nbconvert_exporter": "python",
   "pygments_lexer": "ipython3",
   "version": "3.7.1"
  }
 },
 "nbformat": 4,
 "nbformat_minor": 2
}
