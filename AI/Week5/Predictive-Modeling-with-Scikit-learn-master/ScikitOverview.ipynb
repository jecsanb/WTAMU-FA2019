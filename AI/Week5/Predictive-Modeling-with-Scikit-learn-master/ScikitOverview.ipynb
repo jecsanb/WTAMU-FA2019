{
 "cells": [
  {
   "cell_type": "markdown",
   "metadata": {},
   "source": [
    "# Scikit-learn overview and Machine learning the problem setting"
   ]
  },
  {
   "cell_type": "markdown",
   "metadata": {},
   "source": [
    "## Agenda\n",
    "\n",
    "- What is scikit-learn, what are its benefits/drawbacks? \n",
    "- What is machine learning and how does it work?"
   ]
  },
  {
   "cell_type": "markdown",
   "metadata": {},
   "source": [
    "## Scikit-learn\n",
    "\n",
    "![scikit-learn algorithm map](images/02_sklearn_algorithms.png)"
   ]
  },
  {
   "cell_type": "markdown",
   "metadata": {},
   "source": [
    "## Benefits and drawbacks of scikit-learn\n",
    "\n",
    "### Benefits:\n",
    "\n",
    "- **Consistent interface** to machine learning models\n",
    "- Rapid **integration**\n",
    "- Provides many **tuning parameters** but with **sensible defaults**\n",
    "- Good **documentation**\n",
    "- Rich set of functionality for **companion tasks**\n",
    "- **Active community** for development and support\n",
    "\n",
    "### Potential drawbacks:\n",
    "\n",
    "- Harder to get started with machine learning (**steep learning curve**)\n",
    "- Less emphasis on **model interpretability** and breadth of the models covered"
   ]
  },
  {
   "cell_type": "markdown",
   "metadata": {},
   "source": [
    "## Machine learning\n",
    "\n",
    "We will level up the field and define all the concepts we will be using \n",
    "\n",
    "One ML definition: \"Machine learning is the semi-automated extraction of knowledge from data\"\n",
    "\n",
    "- **Knowledge from data**: Starts with a question that might be answerable using data\n",
    "- **Automated extraction**: A computer provides the insight\n",
    "- **Semi-automated**: Requires many smart decisions by a human"
   ]
  },
  {
   "cell_type": "markdown",
   "metadata": {},
   "source": [
    "### Learning problems\n",
    "\n",
    "In general, a learning problem considers a set of n **samples** of data and then tries to predict properties of unknown data. \n",
    "\n",
    "If each sample is more than a single number and, for instance, a multi-dimensional entry (aka multivariate data), it is said to have several attributes or **features**.\n",
    "\n",
    "ML concepts\n",
    "\n",
    "- Samples (observations, example, instance, record)\n",
    "- Features (predictor, attribute, independent variable, input, regressor, covariate)\n",
    "- Response (target, outcome, label, dependent variable)\n",
    "- Training, validation and testing set\n",
    "\n",
    "**Supervised learning**: Making predictions using labeled data (learning a function that maps an input to an output based on example input-output pairs)\n",
    "\n",
    "**Regression**\n",
    "\n",
    "A regression problem is when the output variable is a real or continuous value\n",
    "\n",
    "- Example predicting the temperature based on the historical values\n",
    "- There is an outcome value that we are trying to predict\n",
    "\n",
    "![Weather Forecast](images/01_predicting_temp.png)\n",
    "\n",
    "**Classification**\n",
    "\n",
    "A classification problem is when the output variable is a category\n",
    "    \n",
    "- Example: Is a given email \"spam\" or \"ham\"?\n",
    "- There is a class outcome we are trying to predict\n",
    "\n",
    "![Spam filter](images/01_spam_filter.png)\n",
    "\n",
    "**Unsupervised learning**: Extracting structure from data (self-organized learning - find previously unknown patterns in data set without pre-existing labels)\n",
    "\n",
    "- Example: Segment student population into clusters that exhibit similar behaviors\n",
    "- There is no \"right answer\"\n",
    "\n",
    "![Clustering](images/01_clustering.png)"
   ]
  },
  {
   "cell_type": "markdown",
   "metadata": {},
   "source": [
    "### Predictive modeling\n",
    "\n",
    "High-level steps:\n",
    "\n",
    "1. First, preprocess the data - make sure that data is ready to enter the ML pipeline\n",
    "\n",
    "2. Then, train a **machine learning model** using **labeled data**\n",
    "\n",
    "    - \"Labeled data\" has been labeled with the outcome\n",
    "    - \"Machine learning model\" learns the relationship between the attributes of the data and its outcome\n",
    "\n",
    "3. Finally, make **predictions** on **new (unseen) data** for which the label is unknown\n",
    "\n",
    "![Supervised learning](images/01_supervised_learning.png)\n",
    "\n"
   ]
  }
 ],
 "metadata": {
  "kernelspec": {
   "display_name": "Python 3",
   "language": "python",
   "name": "python3"
  },
  "language_info": {
   "codemirror_mode": {
    "name": "ipython",
    "version": 3
   },
   "file_extension": ".py",
   "mimetype": "text/x-python",
   "name": "python",
   "nbconvert_exporter": "python",
   "pygments_lexer": "ipython3",
   "version": "3.7.1"
  }
 },
 "nbformat": 4,
 "nbformat_minor": 1
}
